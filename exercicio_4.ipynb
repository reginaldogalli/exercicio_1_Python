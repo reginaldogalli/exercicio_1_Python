{
  "nbformat": 4,
  "nbformat_minor": 0,
  "metadata": {
    "colab": {
      "name": "exercicio_4.ipynb",
      "provenance": [],
      "authorship_tag": "ABX9TyPPWm0nWaVIIOPNUaTh8PJj",
      "include_colab_link": true
    },
    "kernelspec": {
      "name": "python3",
      "display_name": "Python 3"
    },
    "language_info": {
      "name": "python"
    }
  },
  "cells": [
    {
      "cell_type": "markdown",
      "metadata": {
        "id": "view-in-github",
        "colab_type": "text"
      },
      "source": [
        "<a href=\"https://colab.research.google.com/github/reginaldogalli/exercicio_1_Python/blob/main/exercicio_4.ipynb\" target=\"_parent\"><img src=\"https://colab.research.google.com/assets/colab-badge.svg\" alt=\"Open In Colab\"/></a>"
      ]
    },
    {
      "cell_type": "code",
      "metadata": {
        "id": "Nzt-cJjkI0yY"
      },
      "source": [
        "from operator import itemgetter  # importa a funcao itemgetter da biblioteca operator\n",
        " \n",
        " \n",
        "print('TABELA DE PRODUTOS ARMAZANADOS v0.01\\n')  # mensagem inicial\n",
        "print('Iniciando o sistema para cadastro de estoque...')\n",
        "lista = []  # cria a lsita\n",
        "dicionario = {}  # cria o dicionario\n",
        "while True:  # laço principal\n",
        "    while True:  # laço secundário (try)\n",
        "        try:  # verifica se os dados inseridos sao do tipo int\n",
        "            dicionario['Codigo'] = int(input('\\nDigite o código do produto ou 0 para encerrar o cadastro: '))  # solicita ao usuario para inserir um valor a ser gravado na chave Codigo\n",
        "            break  # caso o valor seja int finaliza o laço secundário\n",
        "        except ValueError:  # caso valor nao seja int exibe mensagem3\n",
        "            print('\\nValor inválido. Insira um valor numérico.')\n",
        "    if dicionario['Codigo'] == 0:  # Verifica de o valor digitado é igual 0\n",
        "        break  # caso for 0, encerra o laço principal\n",
        "    else:  # caso não for continua o laço\n",
        "        while True:  # laço secundário (try)\n",
        "            try:  # verifica se os dados inseridos sao do tipo int\n",
        "                dicionario['Estoque'] = int(input('\\nDigite a quantidade em estoque do produto: '))  # solicita ao usuario para inserir um valor a ser gravado na chave Estoque\n",
        "                break  # caso o valor seja int finaliza o laço secundário\n",
        "            except ValueError:  # caso valor nao seja int exibe mensagem\n",
        "                print('\\nValor inválido. Insira um valor numérico.')\n",
        "        while True:  # laço secundário (try)\n",
        "            try:  # verifica se os dados inseridos sao do tipo int\n",
        "                dicionario['Minimo'] = int(input('\\nDigite o estoque minimo do produto: '))  ## solicita ao usuario para inserir um valor a ser gravado na chave Minimo\n",
        "                break  # caso o valor seja int finaliza o laço secundário\n",
        "            except ValueError:  # caso valor nao seja int exibe mensagem\n",
        "                print('\\nValor inválido. Insira um valor numérico.')\n",
        "        lista.append(dicionario.copy())  # Grava dicionário no final da lista\n",
        "print('\\nEsta é a Lista de Produtos Armazenados:')\n",
        "print(lista)  # imprime a lista gravada\n",
        "t = len(lista)  # verifica quantos índices tem na lista\n",
        "print('\\n|   TABELA DE ESTOQUE     |')  # imprime a lsita formatada como uma tabela\n",
        "print('--------------------------')\n",
        "print('|Código | Estoque | Mínimo|')\n",
        "print('--------------------------')\n",
        "for i in range(t):  # imprime linha a linha da tabela utilizando um laço for\n",
        "    print('|  ' + str(lista[i]['Codigo']).zfill(2) + '   |   ' + str(lista[i]['Estoque']).zfill(2) + '    |   ' + str(lista[i]['Minimo']).zfill(2) + '  |')\n",
        "    print('--------------------------')  # converte os values do dicionario para str. Utiliza o método zfill para adicionar um zero à esquerda.\n",
        "listaOrdenada = sorted(lista, key=itemgetter('Codigo'))  # atribui a lista ordenada utilizando o itemgetter\n",
        "print('\\n')\n",
        "print(listaOrdenada)  # imprime a lista ordenada\n",
        "print('\\n|   TABELA DE ESTOQUE     |')\n",
        "print('--------------------------')\n",
        "print('|Código | Estoque | Mínimo|')\n",
        "print('--------------------------')\n",
        "for i in range(t):  # imprime linha a linha da tabela utilizando um laço for\n",
        "    print('|  ' + str(listaOrdenada[i]['Codigo']).zfill(2) + '   |   ' + str(listaOrdenada[i]['Estoque']).zfill(2) + '    |   ' + str(listaOrdenada[i]['Minimo']).zfill(2) + '  |')\n",
        "    print('--------------------------')   # converte os values do dicionario para str. Utiliza o método zfill para adicionar um zero à esquerda."
      ],
      "execution_count": null,
      "outputs": []
    }
  ]
}