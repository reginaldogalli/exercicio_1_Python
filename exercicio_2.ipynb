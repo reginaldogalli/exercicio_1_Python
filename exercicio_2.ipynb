{
  "nbformat": 4,
  "nbformat_minor": 0,
  "metadata": {
    "colab": {
      "name": "exercicio_2.ipynb",
      "provenance": [],
      "authorship_tag": "ABX9TyNTETkafF94j+FOOwy6oCF/",
      "include_colab_link": true
    },
    "kernelspec": {
      "name": "python3",
      "display_name": "Python 3"
    },
    "language_info": {
      "name": "python"
    }
  },
  "cells": [
    {
      "cell_type": "markdown",
      "metadata": {
        "id": "view-in-github",
        "colab_type": "text"
      },
      "source": [
        "<a href=\"https://colab.research.google.com/github/reginaldogalli/exercicio_1_Python/blob/main/exercicio_2.ipynb\" target=\"_parent\"><img src=\"https://colab.research.google.com/assets/colab-badge.svg\" alt=\"Open In Colab\"/></a>"
      ]
    },
    {
      "cell_type": "code",
      "metadata": {
        "id": "8H43hiwRG_aX",
        "colab": {
          "base_uri": "https://localhost:8080/"
        },
        "outputId": "5fed8695-fdf9-43b4-bd9d-fbb85e75560b"
      },
      "source": [
        "def juntar(arg1, arg2, arg3):  # define a função juntar\n",
        "    servidor = '@algoritmos.com.br'  # salva o servidor de email em uma vari[avel\n",
        "    return arg1[0] + arg2 + arg3 + servidor  # retorna a junção da inicial + sobrenome + RU + servidor\n",
        " \n",
        " \n",
        "# Programa Principal\n",
        "print('GERADOR DE E-MAILS v0.01\\n')  # mensagem inicial\n",
        "nome = input('Digite o seu nome: ')  # recebe a string para a variável nome\n",
        "sobrenome = input('Digite o seu sobrenome: ')  # recebe a string para a variável sobrenome\n",
        "ru = input('Digite o seu RU: ')  # recebe a string para a variável ru\n",
        "email = juntar(nome.lower(), sobrenome.replace(' ', '').lower(), ru[-2:])  # atribui o retorno da função para o email\n",
        "print('Sr(a). {} {}, seu email é {}'.format(nome, sobrenome, email))  # Exibe a mensagem com o email\n",
        "print('ENCERRANDO O PROGRAMA...')  # mensagem de encerramento"
      ],
      "execution_count": 1,
      "outputs": [
        {
          "output_type": "stream",
          "text": [
            "GERADOR DE E-MAILS v0.01\n",
            "\n",
            "Digite o seu nome: Reginaldo\n",
            "Digite o seu sobrenome: Galli dos Santos\n",
            "Digite o seu RU: 357000000\n",
            "Sr(a). Reginaldo Galli dos Santos, seu email é rgallidossantos00@algoritmos.com.br\n",
            "ENCERRANDO O PROGRAMA...\n"
          ],
          "name": "stdout"
        }
      ]
    }
  ]
}