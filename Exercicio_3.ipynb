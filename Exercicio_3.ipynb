{
  "nbformat": 4,
  "nbformat_minor": 0,
  "metadata": {
    "colab": {
      "name": "Exercicio_3.ipynb",
      "provenance": [],
      "authorship_tag": "ABX9TyN+5KVG/bfltPW9M70xWI9E",
      "include_colab_link": true
    },
    "kernelspec": {
      "name": "python3",
      "display_name": "Python 3"
    },
    "language_info": {
      "name": "python"
    }
  },
  "cells": [
    {
      "cell_type": "markdown",
      "metadata": {
        "id": "view-in-github",
        "colab_type": "text"
      },
      "source": [
        "<a href=\"https://colab.research.google.com/github/reginaldogalli/exercicio_1_Python/blob/main/Exercicio_3.ipynb\" target=\"_parent\"><img src=\"https://colab.research.google.com/assets/colab-badge.svg\" alt=\"Open In Colab\"/></a>"
      ]
    },
    {
      "cell_type": "code",
      "metadata": {
        "colab": {
          "base_uri": "https://localhost:8080/"
        },
        "id": "QLGSEehAHVBc",
        "outputId": "08148c27-3549-4763-9f57-8f99120c8e83"
      },
      "source": [
        "import random  # importa biblioteca random\n",
        "\n",
        "\n",
        "def cadastra(nome, vezes):  # define função cadastra\n",
        "    global listaSorteio  # define a variavel como global\n",
        "    for i in range(0, vezes):  # insere o nome na lista de acordo com o valor doado\n",
        "        listaSorteio.append(nome)\n",
        "\n",
        "\n",
        "print('LISTA SORTEIO v0.01\\n')  # mensagem inicial\n",
        "listaSorteio = []  # cria a lista para o sorteio\n",
        "opcao = 1\n",
        "doacao = 0\n",
        "print('Insira uma doação para começar. ')\n",
        "while True:  # inicia o laço principal\n",
        "    while opcao == 1:  # inicia o laço secundário\n",
        "        try:  # verifica se os dados inseridos sao do tipo float\n",
        "            doacao = float(input('\\nDigite o valor da doação (Mínimo R$ 10,00 para entrar no sorteio): R$'))  # Valor\n",
        "            break\n",
        "        except ValueError:\n",
        "            print('\\nOops! valor inválido. Tente novamente.')  # Mensagem exibida caso dado incompátivel\n",
        "    doador = input('Digite o nome do doador: ')  # Recebe o nome do doador\n",
        "    x = doacao//10  # divide o valor doado por dez e verifica apenas a parte inteira\n",
        "    cadastra(doador, int(x))  # executa a funcao cadastra\n",
        "    print('\\nDoação cadastrada com sucesso!')\n",
        "    print('\\nLista do sorteio atualizada:')\n",
        "    print(listaSorteio)  # imprime a lista do sorteio\n",
        "    print('\\nOPÇÕES:')\n",
        "    print('1 - Inserir nova doação')\n",
        "    print('2 - Realizar sorteio')\n",
        "    while True:\n",
        "        try:  # verifica se os dados inseridos sao válidos\n",
        "            opcao = int(input('Selecione a opção desejada:'))\n",
        "            break\n",
        "        except ValueError:\n",
        "            print('\\nOops! Opção Inválida. Selecione 1 ou 2.')\n",
        "            print('\\nOPÇÕES:')\n",
        "            print('1 - Inserir nova doação')\n",
        "            print('2 - Realizar sorteio')\n",
        "    if opcao == 1:  # se digitar 1, retorna para o inicio do laço primário\n",
        "        continue\n",
        "    elif opcao == 2:  # se digitar 2, finaliza o laço primário\n",
        "        break\n",
        "    else:  # se digitar algo diferente, inicia outro laço até que digite um valor válido\n",
        "        while opcao != 1 and opcao != 2:\n",
        "            while True:\n",
        "                try:\n",
        "                    print('\\nOops! Opção inválida. Selecione 1 ou 2.')\n",
        "                    print('\\nOPÇÕES:')\n",
        "                    print('1 - Inserir nova doação')\n",
        "                    print('2 - Realizar sorteio')\n",
        "                    opcao = int(input('Selecione 1 ou 2: '))\n",
        "                    break\n",
        "                except ValueError:\n",
        "                    continue\n",
        "    if opcao == 2:\n",
        "        break\n",
        "print('\\nEmbaralhando lista...')\n",
        "random.shuffle(listaSorteio)  # embaralha lista\n",
        "print(listaSorteio)  # imprime lista embaralhada\n",
        "sorteado = random.choice(listaSorteio)  # realiza o sorteio\n",
        "print('\\nO ganhador do sorteio foi: {}'.format(sorteado).upper())  # imprime o sorteado na tela\n",
        "print('\\n Fim do Programa.')  # imprime mensagem de encerramento\n"
      ],
      "execution_count": null,
      "outputs": [
        {
          "output_type": "stream",
          "text": [
            "LISTA SORTEIO v0.01\n",
            "\n",
            "Insira uma doação para começar. \n",
            "\n",
            "Digite o valor da doação (Mínimo R$ 10,00 para entrar no sorteio): R$10\n",
            "Digite o nome do doador: ze\n",
            "\n",
            "Doação cadastrada com sucesso!\n",
            "\n",
            "Lista do sorteio atualizada:\n",
            "['ze']\n",
            "\n",
            "OPÇÕES:\n",
            "1 - Inserir nova doação\n",
            "2 - Realizar sorteio\n",
            "Selecione a opção desejada:3\n",
            "\n",
            "Oops! Opção inválida. Selecione 1 ou 2.\n",
            "\n",
            "OPÇÕES:\n",
            "1 - Inserir nova doação\n",
            "2 - Realizar sorteio\n",
            "Selecione 1 ou 2: a\n",
            "\n",
            "Oops! Opção inválida. Selecione 1 ou 2.\n",
            "\n",
            "OPÇÕES:\n",
            "1 - Inserir nova doação\n",
            "2 - Realizar sorteio\n",
            "Selecione 1 ou 2: 1\n",
            "\n",
            "Digite o valor da doação (Mínimo R$ 10,00 para entrar no sorteio): R$juca\n",
            "\n",
            "Oops! valor inválido. Tente novamente.\n",
            "\n",
            "Digite o valor da doação (Mínimo R$ 10,00 para entrar no sorteio): R$30\n",
            "Digite o nome do doador: juca\n",
            "\n",
            "Doação cadastrada com sucesso!\n",
            "\n",
            "Lista do sorteio atualizada:\n",
            "['ze', 'juca', 'juca', 'juca']\n",
            "\n",
            "OPÇÕES:\n",
            "1 - Inserir nova doação\n",
            "2 - Realizar sorteio\n",
            "Selecione a opção desejada:2\n",
            "\n",
            "Embaralhando lista...\n",
            "['juca', 'juca', 'ze', 'juca']\n",
            "\n",
            "O GANHADOR DO SORTEIO FOI: JUCA\n",
            "\n",
            " Fim do Programa.\n"
          ],
          "name": "stdout"
        }
      ]
    }
  ]
}