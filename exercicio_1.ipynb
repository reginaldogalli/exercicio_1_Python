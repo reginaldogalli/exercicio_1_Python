{
  "nbformat": 4,
  "nbformat_minor": 0,
  "metadata": {
    "colab": {
      "name": "exercicio_1.ipynb",
      "provenance": [],
      "authorship_tag": "ABX9TyNG7OupI48Xi5LQUlZ/A9S2",
      "include_colab_link": true
    },
    "kernelspec": {
      "name": "python3",
      "display_name": "Python 3"
    },
    "language_info": {
      "name": "python"
    }
  },
  "cells": [
    {
      "cell_type": "markdown",
      "metadata": {
        "id": "view-in-github",
        "colab_type": "text"
      },
      "source": [
        "<a href=\"https://colab.research.google.com/github/reginaldogalli/exercicio_1_Python/blob/main/exercicio_1.ipynb\" target=\"_parent\"><img src=\"https://colab.research.google.com/assets/colab-badge.svg\" alt=\"Open In Colab\"/></a>"
      ]
    },
    {
      "cell_type": "code",
      "metadata": {
        "colab": {
          "base_uri": "https://localhost:8080/"
        },
        "id": "oSpYpUdjA94v",
        "outputId": "3842e8aa-23ae-479e-cf84-f0919d14f81d"
      },
      "source": [
        "print('CONCEITO DE AVALIAÇÃO DOS ALUNOS v0.01\\n')\n",
        "while True:  # inicia o laço de repetição\n",
        "    print('OPÇÕES:')\n",
        "    print('1 - Iniciar')\n",
        "    print('2 - Encerrar')\n",
        "    conceito = '?'\n",
        "    inicia = input('Digite a opção desejada: ')  # digita '1' para iniciar  ou outra tecla para encerrar\n",
        "    if inicia == '1':  # Verifica se o usuário digitou '1' para iniciar o programa\n",
        "        nome = input('Digite o nome do aluno: ')  # solicita ao usuario que digite o nome do aluno\n",
        "        while True:\n",
        "            try:\n",
        "                nota = float(input('Digite a nota do aluno (0 - 10): '))  # solicita ao usuario que digite a nota\n",
        "                break\n",
        "            except ValueError:\n",
        "                print('Valor inválido! Digite um valor numérico entre 0 e 10')\n",
        "        if nota <= 2.9:  # caso nota menor ou igual 2.9,\n",
        "            conceito = 'E'  # atribui 'E' para a variavel conceito\n",
        "        elif 0 > nota <= 4.9:  # caso nota maior que 2.9 e menor ou igual 4.9,\n",
        "            conceito = 'D'  # atribui 'D' para a variavel conceito\n",
        "        elif 4.9 < nota <= 6.9:  # caso nota maior que 4.9 e menor ou igual 6.9,\n",
        "            conceito = 'C'  # atribui 'C' para a variavel conceito\n",
        "        elif 6.9 < nota <= 8.9:  # caso nota maior que 6.9 e menor ou igual 8.9,\n",
        "            conceito = 'B'  # atribui 'B' para a variavel conceito\n",
        "        elif 8.9 < nota <= 10:  # caso nota maior que 8.9 e menor ou igual 10,\n",
        "            conceito = 'A'  # atribui 'A' para a variavel conceito\n",
        "        else:  # caso nota não corresponda a nenhuma das condições anteriores,\n",
        "            print('Nota inválida!\\n')\n",
        "        if 0 <= nota <= 10:\n",
        "            print('O aluno {} tirou nota {} e se enquadra no conceito {}\\n'.format(nome, nota, conceito))  # imprime\n",
        "    elif inicia == '2':  # caso o ususario digite '2'\n",
        "        print('ENCERRANDO O PROGRAMA ...')  # imprime a mensagem\n",
        "        break  # Encerra o laço de repetição\n",
        "    else:\n",
        "        continue"
      ],
      "execution_count": null,
      "outputs": [
        {
          "output_type": "stream",
          "text": [
            "CONCEITO DE AVALIAÇÃO DOS ALUNOS v0.01\n",
            "\n",
            "OPÇÕES:\n",
            "1 - Iniciar\n",
            "2 - Encerrar\n",
            "Digite a opção desejada: ~1\n",
            "OPÇÕES:\n",
            "1 - Iniciar\n",
            "2 - Encerrar\n",
            "Digite a opção desejada: 1\n",
            "Digite o nome do aluno: ze\n",
            "Digite a nota do aluno (0 - 10): a\n",
            "Valor inválido! Digite um valor numérico entre 0 e 10\n",
            "Digite a nota do aluno (0 - 10): 10\n",
            "O aluno ze tirou nota 10.0 e se enquadra no conceito A\n",
            "\n",
            "OPÇÕES:\n",
            "1 - Iniciar\n",
            "2 - Encerrar\n",
            "Digite a opção desejada: 2\n",
            "ENCERRANDO O PROGRAMA ...\n"
          ],
          "name": "stdout"
        }
      ]
    },
    {
      "cell_type": "markdown",
      "metadata": {
        "id": "mKIw5UVEG8Vi"
      },
      "source": [
        "# Nova seção"
      ]
    }
  ]
}